{
 "cells": [
  {
   "cell_type": "code",
   "execution_count": 1,
   "metadata": {
    "collapsed": false
   },
   "outputs": [
    {
     "name": "stdout",
     "output_type": "stream",
     "text": [
      "Populating the interactive namespace from numpy and matplotlib\n"
     ]
    }
   ],
   "source": [
    "%pylab inline\n",
    "from scipy import linalg\n",
    "from mpl_toolkits.mplot3d import Axes3D"
   ]
  },
  {
   "cell_type": "markdown",
   "metadata": {},
   "source": [
    "# Reduced Inertia tensor\n",
    "\n",
    "$I_{i,j} = \\sum_{x_n V} \\dfrac{x_{n}^{(i)} x_{n}^{(j)}}{d_n^2}$\n"
   ]
  },
  {
   "cell_type": "markdown",
   "metadata": {},
   "source": [
    "- Function RIT computes the reduced inertia tensor"
   ]
  },
  {
   "cell_type": "code",
   "execution_count": 16,
   "metadata": {
    "collapsed": false
   },
   "outputs": [],
   "source": [
    "def RIT(XYZ, q, s):\n",
    "    I = np.zeros([3, 3])\n",
    "    N = len(XYZ[0])\n",
    "    for i in range(3):\n",
    "        for j in range(3):\n",
    "            XX = np.zeros(N)\n",
    "            for n in range(N):\n",
    "                d = np.sqrt(XYZ[0,n]**2 + XYZ[1,n]**2/q**2 + XYZ[2,n]**2/s**2)\n",
    "                Xi = sum(XYZ[i,n])\n",
    "                Xj = sum(XYZ[j,n])\n",
    "                XX[n] = Xi * Xj / d**2\n",
    "            I[i][j] = sum(XX)\n",
    "    return I"
   ]
  },
  {
   "cell_type": "code",
   "execution_count": 17,
   "metadata": {
    "collapsed": true
   },
   "outputs": [],
   "source": [
    "def one_tensor(x, y, z):\n",
    "    N = len(x)\n",
    "    XYZ = zeros([3,N])\n",
    "    XYZ[0,:] = x\n",
    "    XYZ[1,:] = y\n",
    "    XYZ[2,:] = z\n",
    "    return XYZ"
   ]
  },
  {
   "cell_type": "code",
   "execution_count": 114,
   "metadata": {
    "collapsed": true
   },
   "outputs": [],
   "source": [
    "def sphere(n_points):\n",
    "    phi = random.rand(n_points) * 2 * pi\n",
    "    theta = random.rand(n_points) * 2 - 1\n",
    "    R = random.rand(n_points)\n",
    "    X = R**(1/3.0) * sin(phi) * sin(arccos(theta))\n",
    "    Y = R**(1/3.0) * cos(phi) * sin(arccos(theta))\n",
    "    Z = R**(1/3.0) * cos(arccos(theta))\n",
    "    return X, Y, Z\n",
    "\n",
    "def cube(n_points, theta):\n",
    "    X = (random.rand(n_points) * 2.0 - 1.0)  \n",
    "    Y = random.rand(n_points) * 2.0 - 1.0\n",
    "    Z = (random.rand(n_points) * 20.0 - 10.0) \n",
    "    X =  X  \n",
    "    Y =  cos(theta) * Y - sin(theta) * Z\n",
    "    Z =  sin(theta) * Y + cos(theta) * Z\n",
    "    return X, Y, Z"
   ]
  },
  {
   "cell_type": "code",
   "execution_count": 115,
   "metadata": {
    "collapsed": true
   },
   "outputs": [],
   "source": [
    "def projection(x, y, z):\n",
    "    figure(figsize=(17, 5))\n",
    "    subplot(1, 3, 1)\n",
    "    scatter(x, y, s=1)\n",
    "    xlim(-10, 10)\n",
    "    ylim(-10, 10)\n",
    "    xlabel('$x$', fontsize=25)\n",
    "    ylabel('$y$', fontsize=25)\n",
    "    \n",
    "    subplot(1, 3, 2)\n",
    "    scatter(x, z, s=1)\n",
    "    xlim(-10, 10)\n",
    "    ylim(-10, 10)\n",
    "    xlabel('$x$', fontsize=25)\n",
    "    ylabel('$z$', fontsize=25)\n",
    "    \n",
    "    subplot(1, 3, 3)\n",
    "    scatter(y, z, s=1)\n",
    "    xlim(-10, 10)\n",
    "    ylim(-10, 10)\n",
    "    xlabel('$y$', fontsize=25)\n",
    "    ylabel('$z$', fontsize=25)"
   ]
  },
  {
   "cell_type": "code",
   "execution_count": 116,
   "metadata": {
    "collapsed": true
   },
   "outputs": [],
   "source": [
    "def Shape(XYZ, tol):\n",
    "    old_q = 1.2\n",
    "    old_s = 1.2\n",
    "    new_q = 1.0\n",
    "    new_s = 1.0 \n",
    "\n",
    "    while((abs(new_s - old_s) > tol) & (abs(new_q - old_q) > tol)):\n",
    "        old_s = new_s\n",
    "        old_q = new_q\n",
    "        I_test = RIT(XYZ, old_q, old_s)\n",
    "        eival, evec = eig(I_test)\n",
    "        oeival = sort(eival)\n",
    "        XYZ = dot(evec.T, XYZ)\n",
    "        #print oeival\n",
    "        la = oeival[2]\n",
    "        lb = oeival[1]\n",
    "        lc = oeival[0]\n",
    "        new_s = np.sqrt(lc/la)\n",
    "        new_q = np.sqrt(lb/la)\n",
    "        #print Ixy, Ixz, Iyx, Iyz, Izx, Izy\n",
    "    return new_s, new_q, XYZ, evec \n"
   ]
  },
  {
   "cell_type": "code",
   "execution_count": 157,
   "metadata": {
    "collapsed": true
   },
   "outputs": [],
   "source": [
    "x, y, z = cube(500, pi/4.0)"
   ]
  },
  {
   "cell_type": "code",
   "execution_count": 158,
   "metadata": {
    "collapsed": false
   },
   "outputs": [
    {
     "data": {
      "image/png": "[encoded data removed]",
      "text/plain": [
       "<matplotlib.figure.Figure at 0x7f9bf2edd5d0>"
      ]
     },
     "metadata": {},
     "output_type": "display_data"
    }
   ],
   "source": [
    "projection(x, y, z)"
   ]
  },
  {
   "cell_type": "markdown",
   "metadata": {},
   "source": [
    "- The eigenvalues represents the axis ratios of the new set of principal axis. These values are related with $s$ and $q$\n",
    "- The eigenvectors gives the rotation matrix to allign the halo with the principal axis."
   ]
  },
  {
   "cell_type": "code",
   "execution_count": 159,
   "metadata": {
    "collapsed": false
   },
   "outputs": [],
   "source": [
    "cube_xyz = one_tensor(x, y, z)\n",
    "I_test = RIT(cube_xyz, 1, 1)"
   ]
  },
  {
   "cell_type": "code",
   "execution_count": 160,
   "metadata": {
    "collapsed": false
   },
   "outputs": [
    {
     "name": "stdout",
     "output_type": "stream",
     "text": [
      "[[ 0.00407215  0.99972287  0.02318606]\n",
      " [ 0.96234336 -0.01022001  0.27164462]\n",
      " [-0.2718063  -0.02120678  0.96211829]]\n",
      "[ 425.81667295   50.41960871   23.76371834]\n"
     ]
    }
   ],
   "source": [
    "eival, evec = eig(I_test)\n",
    "print evec\n",
    "print eival"
   ]
  },
  {
   "cell_type": "code",
   "execution_count": 162,
   "metadata": {
    "collapsed": false
   },
   "outputs": [
    {
     "name": "stdout",
     "output_type": "stream",
     "text": [
      "0.0907888140138 0.130976932752 [[  1.00000000e+00  -8.42577481e-07   4.56185343e-07]\n",
      " [ -8.42577760e-07  -1.00000000e+00   6.11924914e-07]\n",
      " [ -4.56184828e-07   6.11925298e-07   1.00000000e+00]]\n"
     ]
    }
   ],
   "source": [
    "s, q, R, b_evec = Shape(cube_xyz, 1E-6)\n",
    "print s, q, b_evec"
   ]
  },
  {
   "cell_type": "markdown",
   "metadata": {},
   "source": [
    "## Projections after finding the principal axis, $s$ and $q$"
   ]
  },
  {
   "cell_type": "code",
   "execution_count": 163,
   "metadata": {
    "collapsed": false
   },
   "outputs": [
    {
     "data": {
      "image/png": "[encoded data removed]",
      "text/plain": [
       "<matplotlib.figure.Figure at 0x7f9bf2bc4110>"
      ]
     },
     "metadata": {},
     "output_type": "display_data"
    }
   ],
   "source": [
    "projection(R[0,:], R[1,:], R[2,:])"
   ]
  },
  {
   "cell_type": "code",
   "execution_count": 126,
   "metadata": {
    "collapsed": true
   },
   "outputs": [],
   "source": [
    "def ellipsoidXY(x, y, q, s):\n",
    "    return (x*x+y*y/q)\n",
    "\n",
    "def ellipsoidXZ(x, y, q, s):\n",
    "    return (x*x+z*z/s)\n",
    "\n",
    "def ellipsoidYZ(y, z, q, s):\n",
    "    return (y*y/q+z*z/q)"
   ]
  },
  {
   "cell_type": "code",
   "execution_count": 217,
   "metadata": {
    "collapsed": false
   },
   "outputs": [],
   "source": [
    "def Ellipsoid(a, b, c):\n",
    "    theta = np.random.rand(100) * 2 - 1 \n",
    "    phi = (np.random.rand(100) * 2 * pi) \n",
    "    x = a * sin(arccos(theta)) * cos(phi)\n",
    "    y = b * sin(arccos(theta)) * sin(phi)\n",
    "    z = c * cos(arccos(theta))\n",
    "    return x, y, z"
   ]
  },
  {
   "cell_type": "code",
   "execution_count": 218,
   "metadata": {
    "collapsed": false
   },
   "outputs": [],
   "source": [
    "xe, ye, ze = Ellipsoid(5, 2, 2)"
   ]
  },
  {
   "cell_type": "code",
   "execution_count": 219,
   "metadata": {
    "collapsed": false
   },
   "outputs": [
    {
     "data": {
      "image/png": "[encoded data removed]",
      "text/plain": [
       "<matplotlib.figure.Figure at 0x7f9bf2ad6450>"
      ]
     },
     "metadata": {},
     "output_type": "display_data"
    }
   ],
   "source": [
    "projection(xe, ye, ze)"
   ]
  },
  {
   "cell_type": "code",
   "execution_count": 220,
   "metadata": {
    "collapsed": true
   },
   "outputs": [],
   "source": [
    "XYZe = one_tensor(xe, ye, ze)"
   ]
  },
  {
   "cell_type": "code",
   "execution_count": 227,
   "metadata": {
    "collapsed": false
   },
   "outputs": [],
   "source": [
    "XYZ_e_rot = dot(evec, XYZe)"
   ]
  },
  {
   "cell_type": "code",
   "execution_count": 228,
   "metadata": {
    "collapsed": false
   },
   "outputs": [
    {
     "data": {
      "image/png": "[encoded data removed]",
      "text/plain": [
       "<matplotlib.figure.Figure at 0x7f9bf20cf350>"
      ]
     },
     "metadata": {},
     "output_type": "display_data"
    },
    {
     "data": {
      "image/png": "[encoded data removed]",
      "text/plain": [
       "<matplotlib.figure.Figure at 0x7f9bf25eee90>"
      ]
     },
     "metadata": {},
     "output_type": "display_data"
    }
   ],
   "source": [
    "projection(XYZ_e_rot[0,:], XYZ_e_rot[1,:], XYZ_e_rot[2,:])\n",
    "projection(XYZe[0,:], XYZe[1,:], XYZe[2,:])"
   ]
  },
  {
   "cell_type": "code",
   "execution_count": 138,
   "metadata": {
    "collapsed": false
   },
   "outputs": [],
   "source": [
    "xx=np.linspace(-20,20,400)\n",
    "yy=np.linspace(-20,20,400)\n",
    "zz=np.linspace(-20,20,400)\n",
    "XYZ = np.zeros([3, 400])\n",
    "\n",
    "XYZ[0,:] = xx\n",
    "XYZ[1,:] = yy\n",
    "XYZ[2,:] = zz"
   ]
  },
  {
   "cell_type": "code",
   "execution_count": 139,
   "metadata": {
    "collapsed": false
   },
   "outputs": [
    {
     "data": {
      "text/plain": [
       "(3, 400)"
      ]
     },
     "execution_count": 139,
     "metadata": {},
     "output_type": "execute_result"
    }
   ],
   "source": [
    "shape(XYZ)"
   ]
  },
  {
   "cell_type": "code",
   "execution_count": 140,
   "metadata": {
    "collapsed": false
   },
   "outputs": [],
   "source": [
    "rot_XYZ = dot(b_evec.T, XYZ)\n"
   ]
  },
  {
   "cell_type": "code",
   "execution_count": 141,
   "metadata": {
    "collapsed": true
   },
   "outputs": [],
   "source": [
    "xx = rot_XYZ[0,:]\n",
    "yy = rot_XYZ[1,:]\n",
    "zz = rot_XYZ[2,:]"
   ]
  },
  {
   "cell_type": "code",
   "execution_count": 142,
   "metadata": {
    "collapsed": false
   },
   "outputs": [
    {
     "name": "stdout",
     "output_type": "stream",
     "text": [
      "(400, 400)\n"
     ]
    }
   ],
   "source": [
    "[X,Y]=np.meshgrid(xx,yy)\n",
    "[X1,Z1]=np.meshgrid(xx,zz)\n",
    "[Y2,Z2]=np.meshgrid(yy,zz)\n",
    "\n",
    "\n",
    "print shape(X)\n",
    "c1 = ellipsoidXY(X, Y, q, s)\n",
    "c2 = ellipsoidXY(X1, Z1, q, s)\n",
    "c3 = ellipsoidXY(Y2, Z2, q, s)"
   ]
  },
  {
   "cell_type": "code",
   "execution_count": 143,
   "metadata": {
    "collapsed": false
   },
   "outputs": [
    {
     "data": {
      "text/plain": [
       "<matplotlib.contour.QuadContourSet at 0x7f9bf2efe7d0>"
      ]
     },
     "execution_count": 143,
     "metadata": {},
     "output_type": "execute_result"
    },
    {
     "data": {
      "image/png": "[encoded data removed]",
      "text/plain": [
       "<matplotlib.figure.Figure at 0x7f9bf3012bd0>"
      ]
     },
     "metadata": {},
     "output_type": "display_data"
    }
   ],
   "source": [
    "contour(X, Y, c1, [20])\n"
   ]
  },
  {
   "cell_type": "code",
   "execution_count": 144,
   "metadata": {
    "collapsed": false
   },
   "outputs": [
    {
     "data": {
      "text/plain": [
       "<matplotlib.contour.QuadContourSet at 0x7f9bf3285bd0>"
      ]
     },
     "execution_count": 144,
     "metadata": {},
     "output_type": "execute_result"
    },
    {
     "data": {
      "image/png": "[encoded data removed]",
      "text/plain": [
       "<matplotlib.figure.Figure at 0x7f9bf2fc71d0>"
      ]
     },
     "metadata": {},
     "output_type": "display_data"
    }
   ],
   "source": [
    "contour(X1, Z1, c2, [10])\n",
    "contour(Y2, Z2, c3, [10])"
   ]
  },
  {
   "cell_type": "code",
   "execution_count": null,
   "metadata": {
    "collapsed": true
   },
   "outputs": [],
   "source": []
  },
  {
   "cell_type": "code",
   "execution_count": null,
   "metadata": {
    "collapsed": true
   },
   "outputs": [],
   "source": []
  }
 ],
 "metadata": {
  "kernelspec": {
   "display_name": "Python 2",
   "language": "python",
   "name": "python2"
  },
  "language_info": {
   "codemirror_mode": {
    "name": "ipython",
    "version": 2
   },
   "file_extension": ".py",
   "mimetype": "text/x-python",
   "name": "python",
   "nbconvert_exporter": "python",
   "pygments_lexer": "ipython2",
   "version": "2.7.6"
  }
 },
 "nbformat": 4,
 "nbformat_minor": 0
}
