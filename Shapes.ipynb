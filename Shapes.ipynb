{
 "cells": [
  {
   "cell_type": "code",
   "execution_count": 175,
   "metadata": {
    "collapsed": false
   },
   "outputs": [
    {
     "name": "stdout",
     "output_type": "stream",
     "text": [
      "Using matplotlib backend: TkAgg\n",
      "Populating the interactive namespace from numpy and matplotlib\n"
     ]
    },
    {
     "name": "stderr",
     "output_type": "stream",
     "text": [
      "WARNING: pylab import has clobbered these variables: ['linalg']\n",
      "`%matplotlib` prevents importing * from pylab and numpy\n"
     ]
    }
   ],
   "source": [
    "%pylab \n",
    "from scipy import linalg\n",
    "from mpl_toolkits.mplot3d import Axes3D"
   ]
  },
  {
   "cell_type": "markdown",
   "metadata": {},
   "source": [
    "# Inertia tensor\n",
    "\n",
    "$I_{i,j} = \\sum_{x_n V} \\dfrac{x_{n}^{(i)} x_{n}^{(j)}}{d_n^2}$\n"
   ]
  },
  {
   "cell_type": "code",
   "execution_count": 24,
   "metadata": {
    "collapsed": false
   },
   "outputs": [],
   "source": [
    "def RIT(x, y, z, q, s):\n",
    "    N = len(x)\n",
    "    XYZ = zeros([3,N])\n",
    "    XYZ[0,:] = x\n",
    "    XYZ[1,:] = y\n",
    "    XYZ[2,:] = z\n",
    "    I = np.zeros([3, 3])\n",
    "    for i in range(3):\n",
    "        for j in range(3):\n",
    "            XX = np.zeros(N)\n",
    "            for n in range(N):\n",
    "                d = np.sqrt(XYZ[0,n]**2 + XYZ[1,n]**2/q**2 + XYZ[2,n]**2/s**2)\n",
    "                Xi = sum(XYZ[i,n])\n",
    "                Xj = sum(XYZ[j,n])\n",
    "                XX[n] = Xi * Xj / d**2\n",
    "            I[i][j] = sum(XX)\n",
    "    return I\n",
    "                    "
   ]
  },
  {
   "cell_type": "code",
   "execution_count": 179,
   "metadata": {
    "collapsed": false
   },
   "outputs": [
    {
     "data": {
      "text/plain": [
       "<matplotlib.collections.PathCollection at 0x7fd7c1639190>"
      ]
     },
     "execution_count": 179,
     "metadata": {},
     "output_type": "execute_result"
    }
   ],
   "source": [
    "figure(figsize=(6, 6))\n",
    "phi = random.rand(5000) * 2*pi\n",
    "theta = random.rand(5000) * 2 - 1\n",
    "R = random.rand(5000)\n",
    "#X = R**(1/3.0) * sin(phi) * sin(arccos(theta))\n",
    "#Y = R**(1/3.0) * cos(phi) * sin(arccos(theta))\n",
    "#Z = R**(1/3.0) * cos(arccos(theta))\n",
    "n_points=5000\n",
    "X = random.rand(n_points) * 2 -1\n",
    "Y = random.rand(n_points) * 2 -1\n",
    "Z = random.rand(n_points) * 20 \n",
    "\n",
    "scatter(Y, Z, s=0.1)"
   ]
  },
  {
   "cell_type": "code",
   "execution_count": 171,
   "metadata": {
    "collapsed": false
   },
   "outputs": [
    {
     "name": "stdout",
     "output_type": "stream",
     "text": [
      "[[  1.46069786e+02   1.18888773e+00  -6.59759351e+00]\n",
      " [  1.18888773e+00   1.52375904e+02  -6.84287776e+00]\n",
      " [ -6.59759351e+00  -6.84287776e+00   4.70155431e+03]]\n"
     ]
    }
   ],
   "source": [
    "I_test = RIT(X, Y, Z, 1, 1)\n",
    "print I_test"
   ]
  },
  {
   "cell_type": "code",
   "execution_count": 172,
   "metadata": {
    "collapsed": false
   },
   "outputs": [
    {
     "name": "stdout",
     "output_type": "stream",
     "text": [
      "[[ 0.00144866  0.98403428  0.17797316]\n",
      " [ 0.00150457 -0.17797529  0.98403381]\n",
      " [-0.99999782  0.00115776  0.00173837]]\n",
      "[ 4701.57416363   145.8469979    152.57883847]\n"
     ]
    }
   ],
   "source": [
    "eival, evec = eig(I_test)\n",
    "print evec\n",
    "print eival"
   ]
  },
  {
   "cell_type": "code",
   "execution_count": 174,
   "metadata": {
    "collapsed": false
   },
   "outputs": [
    {
     "name": "stdout",
     "output_type": "stream",
     "text": [
      "[[  6.81097305e+00   7.07384527e+00  -4.70156391e+03]\n",
      " [  1.43518445e+02  -2.59571614e+01   1.68855158e-01]\n",
      " [  2.71549376e+01   1.50142735e+02   2.65238982e-01]]\n"
     ]
    }
   ],
   "source": [
    "X = dot(evec.T, I_test)\n",
    "print X"
   ]
  },
  {
   "cell_type": "code",
   "execution_count": 165,
   "metadata": {
    "collapsed": false
   },
   "outputs": [
    {
     "data": {
      "text/plain": [
       "3.4972025275692431e-15"
      ]
     },
     "execution_count": 165,
     "metadata": {},
     "output_type": "execute_result"
    }
   ],
   "source": [
    "dot(evec[0], evec[1])"
   ]
  },
  {
   "cell_type": "code",
   "execution_count": 243,
   "metadata": {
    "collapsed": true
   },
   "outputs": [],
   "source": [
    "def shape(X, Y, Z, tol):\n",
    "    q = 1.0\n",
    "    s = 1.0 \n",
    "    I_test = RIT(X, Y, Z, q, s)\n",
    "    \n",
    "    Ixy = I_test[0][1]\n",
    "    Ixz = I_test[0][2]\n",
    "    Iyx = I_test[1][0]\n",
    "    Iyz = I_test[1][2]\n",
    "    Izx = I_test[2][0]\n",
    "    Izy = I_test[2][1]\n",
    "    print Ixy, Ixz, Iyx, Iyz, Izx, Izy\n",
    "    \n",
    "    while((abs(Ixy)>tol) | (abs(Ixz)>tol) | (abs(Iyx)>tol) | (abs(Iyz)>tol) | (abs(Izx)>tol) | (abs(Izy)>tol)):\n",
    "        eival, evec = eig(I_test)\n",
    "        oeival = sort(eival)\n",
    "        #print oeival\n",
    "        la = oeival[2]\n",
    "        lb = oeival[1]\n",
    "        lc = oeival[0]\n",
    "        s = np.sqrt(lc/la)\n",
    "        q = np.sqrt(lb/la)\n",
    "        I_test = RIT(X, Y, Z, q, s)\n",
    "        Ixy = I_test[0][1]\n",
    "        Ixz = I_test[0][2]\n",
    "        Iyx = I_test[1][0]\n",
    "        Iyz = I_test[1][2]\n",
    "        Izx = I_test[2][0]\n",
    "        Izy = I_test[2][1]\n",
    "        #print Ixy, Ixz, Iyx, Iyz, Izx, Izy\n",
    "    return s, q\n"
   ]
  },
  {
   "cell_type": "code",
   "execution_count": 183,
   "metadata": {
    "collapsed": false
   },
   "outputs": [
    {
     "data": {
      "text/plain": [
       "<mpl_toolkits.mplot3d.art3d.Patch3DCollection at 0x7fd7c1c31b10>"
      ]
     },
     "execution_count": 183,
     "metadata": {},
     "output_type": "execute_result"
    }
   ],
   "source": [
    "fig = plt.figure()\n",
    "ax = fig.add_subplot(111, projection='3d')\n",
    "ax.scatter(X, Y, Z, s=1)\n"
   ]
  },
  {
   "cell_type": "code",
   "execution_count": 245,
   "metadata": {
    "collapsed": false
   },
   "outputs": [
    {
     "name": "stdout",
     "output_type": "stream",
     "text": [
      "[ 16553.50197571  16708.47734496  16738.02067933]\n",
      "--------------\n",
      "[[-0.95356462  0.26843073  0.13659966]\n",
      " [ 0.20530409  0.91114304 -0.35730742]\n",
      " [ 0.22037412  0.31267124  0.92394369]]\n",
      "-------------\n",
      "[[  1.65252063e+04   2.86889479e+01   3.59762371e+01]\n",
      " [  2.86889479e+01   1.66510212e+04  -1.65418571e+01]\n",
      " [  3.59762371e+01  -1.65418571e+01   1.66091913e+04]]\n"
     ]
    }
   ],
   "source": [
    "eival, evec = eig(I_test)\n",
    "print eival\n",
    "oival = sort(eival)\n",
    "ax = oival[2]\n",
    "ay = oival[1]\n",
    "az = oival[0]\n",
    "s = sqrt(az/ax)\n",
    "q = sqrt(ay/ax)\n",
    "#aa = max(eival)\n",
    "#print ax, ay, az\n",
    "#print 'eigen vectors'\n",
    "print '--------------'\n",
    "print evec\n",
    "I_test = RIT(X, Y, Z, q, s)\n",
    "print '-------------'\n",
    "print I_test\n",
    "\n"
   ]
  },
  {
   "cell_type": "code",
   "execution_count": 249,
   "metadata": {
    "collapsed": false
   },
   "outputs": [
    {
     "data": {
      "text/plain": [
       "<matplotlib.collections.PathCollection at 0x7f90d98afd10>"
      ]
     },
     "execution_count": 249,
     "metadata": {},
     "output_type": "execute_result"
    },
    {
     "data": {
      "image/png": "[encoded data removed]",
      "text/plain": [
       "<matplotlib.figure.Figure at 0x7f90d9b43fd0>"
      ]
     },
     "metadata": {},
     "output_type": "display_data"
    }
   ],
   "source": [
    "scatter(-0.95, 0.26)\n",
    "scatter(0,0)\n",
    "scatter(0.2,0.91111)"
   ]
  },
  {
   "cell_type": "code",
   "execution_count": 208,
   "metadata": {
    "collapsed": false
   },
   "outputs": [
    {
     "name": "stdout",
     "output_type": "stream",
     "text": [
      "0.65012810617\n",
      "0.560148133128\n"
     ]
    }
   ],
   "source": [
    "print ay/ax\n",
    "print az/ax"
   ]
  },
  {
   "cell_type": "code",
   "execution_count": 119,
   "metadata": {
    "collapsed": false
   },
   "outputs": [
    {
     "name": "stdout",
     "output_type": "stream",
     "text": [
      "[[ 181.63826058   -4.47490201   -3.87295396]\n",
      " [  -4.47490201  130.86670303    3.55135393]\n",
      " [  -3.87295396    3.55135393  284.81104631]]\n",
      "[ 181.86126126  130.40882998  285.04591868]\n"
     ]
    }
   ],
   "source": [
    "I_test = RIT(X, Y, Z, q, s)\n",
    "print I_test\n",
    "eival, evec = eig(I_test)\n",
    "print eival\n",
    "ax = eival[2]\n",
    "ay = eival[0]\n",
    "az = eival[1]\n",
    "s = sqrt(az/ax)\n",
    "q = sqrt(ay/ax)"
   ]
  },
  {
   "cell_type": "code",
   "execution_count": 120,
   "metadata": {
    "collapsed": false
   },
   "outputs": [
    {
     "name": "stdout",
     "output_type": "stream",
     "text": [
      "[[ 186.1366783    -5.67971172   -3.72467961]\n",
      " [  -5.67971172  157.28569967    4.13774772]\n",
      " [  -3.72467961    4.13774772  259.55717043]]\n",
      "-----------------------------------------------\n",
      "[ 186.94553454  156.09734562  259.93666825]\n",
      "[[ 0.98187686 -0.18176084 -0.05367342]\n",
      " [-0.17957059 -0.98279685  0.04318291]\n",
      " [ 0.06059903  0.03276213  0.99762438]]\n"
     ]
    }
   ],
   "source": [
    "I_test = RIT(X, Y, Z, q, s)\n",
    "print I_test\n",
    "eival, evec = eig(I_test)\n",
    "print '-----------------------------------------------'\n",
    "print eival\n",
    "print evec"
   ]
  },
  {
   "cell_type": "code",
   "execution_count": null,
   "metadata": {
    "collapsed": true
   },
   "outputs": [],
   "source": [
    "def rotation(x, y, z, ax, ay, az):\n",
    "    \n",
    "    "
   ]
  },
  {
   "cell_type": "code",
   "execution_count": 33,
   "metadata": {
    "collapsed": false
   },
   "outputs": [
    {
     "name": "stdout",
     "output_type": "stream",
     "text": [
      "[[ 33.33179093  33.33450459  33.33142483]\n",
      " [ 33.33450459  33.33828425  33.3346872 ]\n",
      " [ 33.33142483  33.3346872   33.33260288]]\n"
     ]
    }
   ],
   "source": [
    "I_test = RIT(X-ax, Y-ay, Z-az, 0.5, 0.2)\n",
    "print I_test"
   ]
  },
  {
   "cell_type": "code",
   "execution_count": 141,
   "metadata": {
    "collapsed": false
   },
   "outputs": [
    {
     "name": "stdout",
     "output_type": "stream",
     "text": [
      "[[ 0.66666667 -0.25       -0.25      ]\n",
      " [-0.25        0.66666667 -0.25      ]\n",
      " [-0.25       -0.25        0.66666667]]\n"
     ]
    }
   ],
   "source": [
    "cube = zeros([3,3])\n",
    "\n",
    "cube[0][0] = 2./3.0\n",
    "cube[0][1] = -1./4.0\n",
    "cube[0][2] = -1./4.0\n",
    "\n",
    "cube[1][0] = -1./4.0\n",
    "cube[1][1] = 2./3.0\n",
    "cube[1][2] = -1./4.0\n",
    "\n",
    "cube[2][0] = -1./4.0\n",
    "cube[2][1] = -1./4.0\n",
    "cube[2][2] = 2./3.0\n",
    "\n",
    "print cube"
   ]
  },
  {
   "cell_type": "code",
   "execution_count": 163,
   "metadata": {
    "collapsed": false
   },
   "outputs": [
    {
     "name": "stdout",
     "output_type": "stream",
     "text": [
      "[ 0.16666667  0.91666667  0.91666667]\n",
      "[ 0.51113747  0.29584206 -0.80697953]\n",
      "[[-0.57735027  0.63671434  0.51113747]\n",
      " [-0.57735027 -0.76101521  0.29584206]\n",
      " [-0.57735027  0.12430087 -0.80697953]]\n",
      "[-0.57735027  0.63671434  0.51113747]\n",
      "[[-0.57735027 -0.57735027 -0.57735027]\n",
      " [ 0.63671434 -0.76101521  0.12430087]\n",
      " [ 0.51113747  0.29584206 -0.80697953]]\n"
     ]
    }
   ],
   "source": [
    "l, v = eigh(cube)\n",
    "print l\n",
    "print v[:,2]\n",
    "print v\n",
    "print v[0]\n",
    "print v.T"
   ]
  },
  {
   "cell_type": "code",
   "execution_count": 164,
   "metadata": {
    "collapsed": false
   },
   "outputs": [
    {
     "data": {
      "text/plain": [
       "array([[-0.67186313,  0.44102943,  0.3259173 ],\n",
       "       [-0.26860689, -0.43696642,  0.53181941],\n",
       "       [-0.21423051,  0.42894969, -0.424724  ]])"
      ]
     },
     "execution_count": 164,
     "metadata": {},
     "output_type": "execute_result"
    }
   ],
   "source": [
    "dot(v, cube) "
   ]
  },
  {
   "cell_type": "code",
   "execution_count": 154,
   "metadata": {
    "collapsed": false
   },
   "outputs": [
    {
     "data": {
      "text/plain": [
       "-0.35502958579881672"
      ]
     },
     "execution_count": 154,
     "metadata": {},
     "output_type": "execute_result"
    }
   ],
   "source": [
    "vdot(v[0], v[1])"
   ]
  },
  {
   "cell_type": "code",
   "execution_count": 134,
   "metadata": {
    "collapsed": false
   },
   "outputs": [
    {
     "data": {
      "text/plain": [
       "array([ 0.81649658, -0.57735027,  0.43514263])"
      ]
     },
     "execution_count": 134,
     "metadata": {},
     "output_type": "execute_result"
    }
   ],
   "source": [
    "v[0]"
   ]
  },
  {
   "cell_type": "code",
   "execution_count": null,
   "metadata": {
    "collapsed": true
   },
   "outputs": [],
   "source": []
  }
 ],
 "metadata": {
  "kernelspec": {
   "display_name": "Python 2",
   "language": "python",
   "name": "python2"
  },
  "language_info": {
   "codemirror_mode": {
    "name": "ipython",
    "version": 2
   },
   "file_extension": ".py",
   "mimetype": "text/x-python",
   "name": "python",
   "nbconvert_exporter": "python",
   "pygments_lexer": "ipython2",
   "version": "2.7.6"
  }
 },
 "nbformat": 4,
 "nbformat_minor": 0
}
